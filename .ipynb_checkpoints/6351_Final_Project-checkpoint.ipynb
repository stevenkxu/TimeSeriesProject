{
 "cells": [
  {
   "cell_type": "markdown",
   "metadata": {},
   "source": [
    "## Lee, Albert; Xu, Steven Kenneth"
   ]
  },
  {
   "cell_type": "code",
   "execution_count": 1,
   "metadata": {},
   "outputs": [],
   "source": [
    "from pandas_datareader import data as pdr\n",
    "import pandas as pd\n",
    "import matplotlib.pyplot as plt \n",
    "import numpy as np\n",
    "from statsmodels.tsa.seasonal import seasonal_decompose\n",
    "from pylab import rcParams\n",
    "from statsmodels.tsa.stattools import acf, pacf\n",
    "from statsmodels.graphics.tsaplots import plot_acf, plot_pacf\n",
    "from statsmodels.tsa.stattools import adfuller\n",
    "import statsmodels.api as sm\n",
    "from statsmodels.tsa.arima_model import ARIMA\n",
    "from scipy import stats\n",
    "import warnings\n",
    "warnings.filterwarnings('ignore')\n",
    "%matplotlib inline"
   ]
  },
  {
   "cell_type": "markdown",
   "metadata": {},
   "source": [
    "## Introduction/Background\n",
    "\n",
    "While stock returns often do not show any moving average or autoregressive properties, a common strategy in trading is to construct a mean-reverting trading pair. These stocks are correlated in such a way that some portfolio composed of them will in theory follow a mean reverting process. By constructing a naive pair according to these principles, we hope to produce a signal that is amenable to time series analysis."
   ]
  },
  {
   "cell_type": "markdown",
   "metadata": {},
   "source": [
    "### Step 1: Loading stock data (training samples) and calculating daily price change"
   ]
  },
  {
   "cell_type": "code",
   "execution_count": 2,
   "metadata": {},
   "outputs": [
    {
     "name": "stdout",
     "output_type": "stream",
     "text": [
      "AAPL (501,)\n",
      "MSFT (501,)\n",
      "NVDA (501,)\n",
      "AMD (501,)\n",
      "BA (501,)\n",
      "LUV (501,)\n",
      "AAL (501,)\n",
      "DELL (501,)\n",
      "DAL (501,)\n"
     ]
    }
   ],
   "source": [
    "ticker = ['AAPL', 'MSFT', 'NVDA', 'AMD', 'BA', \"LUV\", \"AAL\", \"DELL\", \"DAL\"]\n",
    "\n",
    "aapl = pdr.get_data_yahoo(\"AAPL\", start=\"2017-07-01\", end=\"2019-06-30\")\n",
    "msft = pdr.get_data_yahoo(\"MSFT\", start=\"2017-07-01\", end=\"2019-06-30\")\n",
    "nvda = pdr.get_data_yahoo(\"NVDA\", start=\"2017-07-01\", end=\"2019-06-30\")\n",
    "amd  = pdr.get_data_yahoo(\"AMD\", start=\"2017-07-01\", end=\"2019-06-30\")\n",
    "boeing = pdr.get_data_yahoo(\"BA\", start=\"2017-07-01\", end=\"2019-06-30\")\n",
    "luv = pdr.get_data_yahoo(\"LUV\", start=\"2017-07-01\", end=\"2019-06-30\")\n",
    "aal = pdr.get_data_yahoo(\"AAL\", start=\"2017-07-01\", end=\"2019-06-30\")\n",
    "dell = pdr.get_data_yahoo(\"DELL\", start=\"2017-07-01\", end=\"2019-06-30\")\n",
    "delta = pdr.get_data_yahoo(\"DAL\", start=\"2017-07-01\", end=\"2019-06-30\")\n",
    "\n",
    "data = [aapl, msft, nvda, amd, boeing, luv, aal, dell, delta]\n",
    "\n",
    "date = aapl.index.date\n",
    "\n",
    "for i in range(len(data)):\n",
    "    data[i] = data[i]['Close']\n",
    "    data[i].dropna(inplace=True)\n",
    "    print(ticker[i], data[i].shape)"
   ]
  },
  {
   "cell_type": "markdown",
   "metadata": {},
   "source": [
    "### Step 2: Selecting a pair of stocks"
   ]
  },
  {
   "cell_type": "code",
   "execution_count": 3,
   "metadata": {},
   "outputs": [
    {
     "name": "stdout",
     "output_type": "stream",
     "text": [
      "Correlation Matrix:\n"
     ]
    },
    {
     "data": {
      "text/html": [
       "<style  type=\"text/css\" >\n",
       "    #T_a0b29f38_8db3_11ea_85d2_a86daa1aced4row0_col0 {\n",
       "            background-color:  #b40426;\n",
       "            color:  #f1f1f1;\n",
       "        }    #T_a0b29f38_8db3_11ea_85d2_a86daa1aced4row0_col1 {\n",
       "            background-color:  #d44e41;\n",
       "            color:  #000000;\n",
       "        }    #T_a0b29f38_8db3_11ea_85d2_a86daa1aced4row0_col2 {\n",
       "            background-color:  #ec8165;\n",
       "            color:  #000000;\n",
       "        }    #T_a0b29f38_8db3_11ea_85d2_a86daa1aced4row0_col3 {\n",
       "            background-color:  #d75445;\n",
       "            color:  #000000;\n",
       "        }    #T_a0b29f38_8db3_11ea_85d2_a86daa1aced4row0_col4 {\n",
       "            background-color:  #df634e;\n",
       "            color:  #000000;\n",
       "        }    #T_a0b29f38_8db3_11ea_85d2_a86daa1aced4row0_col5 {\n",
       "            background-color:  #f7bca1;\n",
       "            color:  #000000;\n",
       "        }    #T_a0b29f38_8db3_11ea_85d2_a86daa1aced4row0_col6 {\n",
       "            background-color:  #f2cbb7;\n",
       "            color:  #000000;\n",
       "        }    #T_a0b29f38_8db3_11ea_85d2_a86daa1aced4row0_col7 {\n",
       "            background-color:  #dc5d4a;\n",
       "            color:  #000000;\n",
       "        }    #T_a0b29f38_8db3_11ea_85d2_a86daa1aced4row0_col8 {\n",
       "            background-color:  #f39577;\n",
       "            color:  #000000;\n",
       "        }    #T_a0b29f38_8db3_11ea_85d2_a86daa1aced4row1_col0 {\n",
       "            background-color:  #d95847;\n",
       "            color:  #000000;\n",
       "        }    #T_a0b29f38_8db3_11ea_85d2_a86daa1aced4row1_col1 {\n",
       "            background-color:  #b40426;\n",
       "            color:  #f1f1f1;\n",
       "        }    #T_a0b29f38_8db3_11ea_85d2_a86daa1aced4row1_col2 {\n",
       "            background-color:  #ebd3c6;\n",
       "            color:  #000000;\n",
       "        }    #T_a0b29f38_8db3_11ea_85d2_a86daa1aced4row1_col3 {\n",
       "            background-color:  #c32e31;\n",
       "            color:  #f1f1f1;\n",
       "        }    #T_a0b29f38_8db3_11ea_85d2_a86daa1aced4row1_col4 {\n",
       "            background-color:  #c83836;\n",
       "            color:  #f1f1f1;\n",
       "        }    #T_a0b29f38_8db3_11ea_85d2_a86daa1aced4row1_col5 {\n",
       "            background-color:  #dddcdc;\n",
       "            color:  #000000;\n",
       "        }    #T_a0b29f38_8db3_11ea_85d2_a86daa1aced4row1_col6 {\n",
       "            background-color:  #dddcdc;\n",
       "            color:  #000000;\n",
       "        }    #T_a0b29f38_8db3_11ea_85d2_a86daa1aced4row1_col7 {\n",
       "            background-color:  #c53334;\n",
       "            color:  #f1f1f1;\n",
       "        }    #T_a0b29f38_8db3_11ea_85d2_a86daa1aced4row1_col8 {\n",
       "            background-color:  #f7af91;\n",
       "            color:  #000000;\n",
       "        }    #T_a0b29f38_8db3_11ea_85d2_a86daa1aced4row2_col0 {\n",
       "            background-color:  #e46e56;\n",
       "            color:  #000000;\n",
       "        }    #T_a0b29f38_8db3_11ea_85d2_a86daa1aced4row2_col1 {\n",
       "            background-color:  #f7a688;\n",
       "            color:  #000000;\n",
       "        }    #T_a0b29f38_8db3_11ea_85d2_a86daa1aced4row2_col2 {\n",
       "            background-color:  #b40426;\n",
       "            color:  #f1f1f1;\n",
       "        }    #T_a0b29f38_8db3_11ea_85d2_a86daa1aced4row2_col3 {\n",
       "            background-color:  #f7b497;\n",
       "            color:  #000000;\n",
       "        }    #T_a0b29f38_8db3_11ea_85d2_a86daa1aced4row2_col4 {\n",
       "            background-color:  #f49a7b;\n",
       "            color:  #000000;\n",
       "        }    #T_a0b29f38_8db3_11ea_85d2_a86daa1aced4row2_col5 {\n",
       "            background-color:  #f29072;\n",
       "            color:  #000000;\n",
       "        }    #T_a0b29f38_8db3_11ea_85d2_a86daa1aced4row2_col6 {\n",
       "            background-color:  #ec7f63;\n",
       "            color:  #000000;\n",
       "        }    #T_a0b29f38_8db3_11ea_85d2_a86daa1aced4row2_col7 {\n",
       "            background-color:  #f7b599;\n",
       "            color:  #000000;\n",
       "        }    #T_a0b29f38_8db3_11ea_85d2_a86daa1aced4row2_col8 {\n",
       "            background-color:  #f7bca1;\n",
       "            color:  #000000;\n",
       "        }    #T_a0b29f38_8db3_11ea_85d2_a86daa1aced4row3_col0 {\n",
       "            background-color:  #df634e;\n",
       "            color:  #000000;\n",
       "        }    #T_a0b29f38_8db3_11ea_85d2_a86daa1aced4row3_col1 {\n",
       "            background-color:  #c32e31;\n",
       "            color:  #f1f1f1;\n",
       "        }    #T_a0b29f38_8db3_11ea_85d2_a86daa1aced4row3_col2 {\n",
       "            background-color:  #dddcdc;\n",
       "            color:  #000000;\n",
       "        }    #T_a0b29f38_8db3_11ea_85d2_a86daa1aced4row3_col3 {\n",
       "            background-color:  #b40426;\n",
       "            color:  #f1f1f1;\n",
       "        }    #T_a0b29f38_8db3_11ea_85d2_a86daa1aced4row3_col4 {\n",
       "            background-color:  #de614d;\n",
       "            color:  #000000;\n",
       "        }    #T_a0b29f38_8db3_11ea_85d2_a86daa1aced4row3_col5 {\n",
       "            background-color:  #ead5c9;\n",
       "            color:  #000000;\n",
       "        }    #T_a0b29f38_8db3_11ea_85d2_a86daa1aced4row3_col6 {\n",
       "            background-color:  #dddcdc;\n",
       "            color:  #000000;\n",
       "        }    #T_a0b29f38_8db3_11ea_85d2_a86daa1aced4row3_col7 {\n",
       "            background-color:  #ca3b37;\n",
       "            color:  #f1f1f1;\n",
       "        }    #T_a0b29f38_8db3_11ea_85d2_a86daa1aced4row3_col8 {\n",
       "            background-color:  #f5c0a7;\n",
       "            color:  #000000;\n",
       "        }    #T_a0b29f38_8db3_11ea_85d2_a86daa1aced4row4_col0 {\n",
       "            background-color:  #e26952;\n",
       "            color:  #000000;\n",
       "        }    #T_a0b29f38_8db3_11ea_85d2_a86daa1aced4row4_col1 {\n",
       "            background-color:  #c53334;\n",
       "            color:  #f1f1f1;\n",
       "        }    #T_a0b29f38_8db3_11ea_85d2_a86daa1aced4row4_col2 {\n",
       "            background-color:  #f7bca1;\n",
       "            color:  #000000;\n",
       "        }    #T_a0b29f38_8db3_11ea_85d2_a86daa1aced4row4_col3 {\n",
       "            background-color:  #d95847;\n",
       "            color:  #000000;\n",
       "        }    #T_a0b29f38_8db3_11ea_85d2_a86daa1aced4row4_col4 {\n",
       "            background-color:  #b40426;\n",
       "            color:  #f1f1f1;\n",
       "        }    #T_a0b29f38_8db3_11ea_85d2_a86daa1aced4row4_col5 {\n",
       "            background-color:  #ead4c8;\n",
       "            color:  #000000;\n",
       "        }    #T_a0b29f38_8db3_11ea_85d2_a86daa1aced4row4_col6 {\n",
       "            background-color:  #ebd3c6;\n",
       "            color:  #000000;\n",
       "        }    #T_a0b29f38_8db3_11ea_85d2_a86daa1aced4row4_col7 {\n",
       "            background-color:  #d85646;\n",
       "            color:  #000000;\n",
       "        }    #T_a0b29f38_8db3_11ea_85d2_a86daa1aced4row4_col8 {\n",
       "            background-color:  #f5c0a7;\n",
       "            color:  #000000;\n",
       "        }    #T_a0b29f38_8db3_11ea_85d2_a86daa1aced4row5_col0 {\n",
       "            background-color:  #f7b497;\n",
       "            color:  #000000;\n",
       "        }    #T_a0b29f38_8db3_11ea_85d2_a86daa1aced4row5_col1 {\n",
       "            background-color:  #f5c4ac;\n",
       "            color:  #000000;\n",
       "        }    #T_a0b29f38_8db3_11ea_85d2_a86daa1aced4row5_col2 {\n",
       "            background-color:  #f59f80;\n",
       "            color:  #000000;\n",
       "        }    #T_a0b29f38_8db3_11ea_85d2_a86daa1aced4row5_col3 {\n",
       "            background-color:  #f7b99e;\n",
       "            color:  #000000;\n",
       "        }    #T_a0b29f38_8db3_11ea_85d2_a86daa1aced4row5_col4 {\n",
       "            background-color:  #f4c5ad;\n",
       "            color:  #000000;\n",
       "        }    #T_a0b29f38_8db3_11ea_85d2_a86daa1aced4row5_col5 {\n",
       "            background-color:  #b40426;\n",
       "            color:  #f1f1f1;\n",
       "        }    #T_a0b29f38_8db3_11ea_85d2_a86daa1aced4row5_col6 {\n",
       "            background-color:  #d65244;\n",
       "            color:  #000000;\n",
       "        }    #T_a0b29f38_8db3_11ea_85d2_a86daa1aced4row5_col7 {\n",
       "            background-color:  #f5c2aa;\n",
       "            color:  #000000;\n",
       "        }    #T_a0b29f38_8db3_11ea_85d2_a86daa1aced4row5_col8 {\n",
       "            background-color:  #f7b497;\n",
       "            color:  #000000;\n",
       "        }    #T_a0b29f38_8db3_11ea_85d2_a86daa1aced4row6_col0 {\n",
       "            background-color:  #dddcdc;\n",
       "            color:  #000000;\n",
       "        }    #T_a0b29f38_8db3_11ea_85d2_a86daa1aced4row6_col1 {\n",
       "            background-color:  #dddcdc;\n",
       "            color:  #000000;\n",
       "        }    #T_a0b29f38_8db3_11ea_85d2_a86daa1aced4row6_col2 {\n",
       "            background-color:  #f7ac8e;\n",
       "            color:  #000000;\n",
       "        }    #T_a0b29f38_8db3_11ea_85d2_a86daa1aced4row6_col3 {\n",
       "            background-color:  #dddcdc;\n",
       "            color:  #000000;\n",
       "        }    #T_a0b29f38_8db3_11ea_85d2_a86daa1aced4row6_col4 {\n",
       "            background-color:  #dddcdc;\n",
       "            color:  #000000;\n",
       "        }    #T_a0b29f38_8db3_11ea_85d2_a86daa1aced4row6_col5 {\n",
       "            background-color:  #e0654f;\n",
       "            color:  #000000;\n",
       "        }    #T_a0b29f38_8db3_11ea_85d2_a86daa1aced4row6_col6 {\n",
       "            background-color:  #b40426;\n",
       "            color:  #f1f1f1;\n",
       "        }    #T_a0b29f38_8db3_11ea_85d2_a86daa1aced4row6_col7 {\n",
       "            background-color:  #dddcdc;\n",
       "            color:  #000000;\n",
       "        }    #T_a0b29f38_8db3_11ea_85d2_a86daa1aced4row6_col8 {\n",
       "            background-color:  #dddcdc;\n",
       "            color:  #000000;\n",
       "        }    #T_a0b29f38_8db3_11ea_85d2_a86daa1aced4row7_col0 {\n",
       "            background-color:  #e26952;\n",
       "            color:  #000000;\n",
       "        }    #T_a0b29f38_8db3_11ea_85d2_a86daa1aced4row7_col1 {\n",
       "            background-color:  #c43032;\n",
       "            color:  #f1f1f1;\n",
       "        }    #T_a0b29f38_8db3_11ea_85d2_a86daa1aced4row7_col2 {\n",
       "            background-color:  #e0dbd8;\n",
       "            color:  #000000;\n",
       "        }    #T_a0b29f38_8db3_11ea_85d2_a86daa1aced4row7_col3 {\n",
       "            background-color:  #ca3b37;\n",
       "            color:  #f1f1f1;\n",
       "        }    #T_a0b29f38_8db3_11ea_85d2_a86daa1aced4row7_col4 {\n",
       "            background-color:  #dc5d4a;\n",
       "            color:  #000000;\n",
       "        }    #T_a0b29f38_8db3_11ea_85d2_a86daa1aced4row7_col5 {\n",
       "            background-color:  #e3d9d3;\n",
       "            color:  #000000;\n",
       "        }    #T_a0b29f38_8db3_11ea_85d2_a86daa1aced4row7_col6 {\n",
       "            background-color:  #e1dad6;\n",
       "            color:  #000000;\n",
       "        }    #T_a0b29f38_8db3_11ea_85d2_a86daa1aced4row7_col7 {\n",
       "            background-color:  #b40426;\n",
       "            color:  #f1f1f1;\n",
       "        }    #T_a0b29f38_8db3_11ea_85d2_a86daa1aced4row7_col8 {\n",
       "            background-color:  #f7b599;\n",
       "            color:  #000000;\n",
       "        }    #T_a0b29f38_8db3_11ea_85d2_a86daa1aced4row8_col0 {\n",
       "            background-color:  #e46e56;\n",
       "            color:  #000000;\n",
       "        }    #T_a0b29f38_8db3_11ea_85d2_a86daa1aced4row8_col1 {\n",
       "            background-color:  #e67259;\n",
       "            color:  #000000;\n",
       "        }    #T_a0b29f38_8db3_11ea_85d2_a86daa1aced4row8_col2 {\n",
       "            background-color:  #f7a688;\n",
       "            color:  #000000;\n",
       "        }    #T_a0b29f38_8db3_11ea_85d2_a86daa1aced4row8_col3 {\n",
       "            background-color:  #ec7f63;\n",
       "            color:  #000000;\n",
       "        }    #T_a0b29f38_8db3_11ea_85d2_a86daa1aced4row8_col4 {\n",
       "            background-color:  #f08b6e;\n",
       "            color:  #000000;\n",
       "        }    #T_a0b29f38_8db3_11ea_85d2_a86daa1aced4row8_col5 {\n",
       "            background-color:  #f18f71;\n",
       "            color:  #000000;\n",
       "        }    #T_a0b29f38_8db3_11ea_85d2_a86daa1aced4row8_col6 {\n",
       "            background-color:  #f59d7e;\n",
       "            color:  #000000;\n",
       "        }    #T_a0b29f38_8db3_11ea_85d2_a86daa1aced4row8_col7 {\n",
       "            background-color:  #e97a5f;\n",
       "            color:  #000000;\n",
       "        }    #T_a0b29f38_8db3_11ea_85d2_a86daa1aced4row8_col8 {\n",
       "            background-color:  #b40426;\n",
       "            color:  #f1f1f1;\n",
       "        }</style><table id=\"T_a0b29f38_8db3_11ea_85d2_a86daa1aced4\" ><thead>    <tr>        <th class=\"blank level0\" ></th>        <th class=\"col_heading level0 col0\" >AAPL</th>        <th class=\"col_heading level0 col1\" >MSFT</th>        <th class=\"col_heading level0 col2\" >NVDA</th>        <th class=\"col_heading level0 col3\" >AMD</th>        <th class=\"col_heading level0 col4\" >BA</th>        <th class=\"col_heading level0 col5\" >LUV</th>        <th class=\"col_heading level0 col6\" >AAL</th>        <th class=\"col_heading level0 col7\" >DELL</th>        <th class=\"col_heading level0 col8\" >DAL</th>    </tr></thead><tbody>\n",
       "                <tr>\n",
       "                        <th id=\"T_a0b29f38_8db3_11ea_85d2_a86daa1aced4level0_row0\" class=\"row_heading level0 row0\" >AAPL</th>\n",
       "                        <td id=\"T_a0b29f38_8db3_11ea_85d2_a86daa1aced4row0_col0\" class=\"data row0 col0\" >1</td>\n",
       "                        <td id=\"T_a0b29f38_8db3_11ea_85d2_a86daa1aced4row0_col1\" class=\"data row0 col1\" >0.675888</td>\n",
       "                        <td id=\"T_a0b29f38_8db3_11ea_85d2_a86daa1aced4row0_col2\" class=\"data row0 col2\" >0.553251</td>\n",
       "                        <td id=\"T_a0b29f38_8db3_11ea_85d2_a86daa1aced4row0_col3\" class=\"data row0 col3\" >0.626733</td>\n",
       "                        <td id=\"T_a0b29f38_8db3_11ea_85d2_a86daa1aced4row0_col4\" class=\"data row0 col4\" >0.592057</td>\n",
       "                        <td id=\"T_a0b29f38_8db3_11ea_85d2_a86daa1aced4row0_col5\" class=\"data row0 col5\" >0.0760609</td>\n",
       "                        <td id=\"T_a0b29f38_8db3_11ea_85d2_a86daa1aced4row0_col6\" class=\"data row0 col6\" >-0.435687</td>\n",
       "                        <td id=\"T_a0b29f38_8db3_11ea_85d2_a86daa1aced4row0_col7\" class=\"data row0 col7\" >0.588504</td>\n",
       "                        <td id=\"T_a0b29f38_8db3_11ea_85d2_a86daa1aced4row0_col8\" class=\"data row0 col8\" >0.551621</td>\n",
       "            </tr>\n",
       "            <tr>\n",
       "                        <th id=\"T_a0b29f38_8db3_11ea_85d2_a86daa1aced4level0_row1\" class=\"row_heading level0 row1\" >MSFT</th>\n",
       "                        <td id=\"T_a0b29f38_8db3_11ea_85d2_a86daa1aced4row1_col0\" class=\"data row1 col0\" >0.675888</td>\n",
       "                        <td id=\"T_a0b29f38_8db3_11ea_85d2_a86daa1aced4row1_col1\" class=\"data row1 col1\" >1</td>\n",
       "                        <td id=\"T_a0b29f38_8db3_11ea_85d2_a86daa1aced4row1_col2\" class=\"data row1 col2\" >-0.0123979</td>\n",
       "                        <td id=\"T_a0b29f38_8db3_11ea_85d2_a86daa1aced4row1_col3\" class=\"data row1 col3\" >0.849422</td>\n",
       "                        <td id=\"T_a0b29f38_8db3_11ea_85d2_a86daa1aced4row1_col4\" class=\"data row1 col4\" >0.822623</td>\n",
       "                        <td id=\"T_a0b29f38_8db3_11ea_85d2_a86daa1aced4row1_col5\" class=\"data row1 col5\" >-0.338754</td>\n",
       "                        <td id=\"T_a0b29f38_8db3_11ea_85d2_a86daa1aced4row1_col6\" class=\"data row1 col6\" >-0.791399</td>\n",
       "                        <td id=\"T_a0b29f38_8db3_11ea_85d2_a86daa1aced4row1_col7\" class=\"data row1 col7\" >0.836558</td>\n",
       "                        <td id=\"T_a0b29f38_8db3_11ea_85d2_a86daa1aced4row1_col8\" class=\"data row1 col8\" >0.425321</td>\n",
       "            </tr>\n",
       "            <tr>\n",
       "                        <th id=\"T_a0b29f38_8db3_11ea_85d2_a86daa1aced4level0_row2\" class=\"row_heading level0 row2\" >NVDA</th>\n",
       "                        <td id=\"T_a0b29f38_8db3_11ea_85d2_a86daa1aced4row2_col0\" class=\"data row2 col0\" >0.553251</td>\n",
       "                        <td id=\"T_a0b29f38_8db3_11ea_85d2_a86daa1aced4row2_col1\" class=\"data row2 col1\" >-0.0123979</td>\n",
       "                        <td id=\"T_a0b29f38_8db3_11ea_85d2_a86daa1aced4row2_col2\" class=\"data row2 col2\" >1</td>\n",
       "                        <td id=\"T_a0b29f38_8db3_11ea_85d2_a86daa1aced4row2_col3\" class=\"data row2 col3\" >-0.152725</td>\n",
       "                        <td id=\"T_a0b29f38_8db3_11ea_85d2_a86daa1aced4row2_col4\" class=\"data row2 col4\" >0.20645</td>\n",
       "                        <td id=\"T_a0b29f38_8db3_11ea_85d2_a86daa1aced4row2_col5\" class=\"data row2 col5\" >0.389109</td>\n",
       "                        <td id=\"T_a0b29f38_8db3_11ea_85d2_a86daa1aced4row2_col6\" class=\"data row2 col6\" >0.315428</td>\n",
       "                        <td id=\"T_a0b29f38_8db3_11ea_85d2_a86daa1aced4row2_col7\" class=\"data row2 col7\" >-0.124148</td>\n",
       "                        <td id=\"T_a0b29f38_8db3_11ea_85d2_a86daa1aced4row2_col8\" class=\"data row2 col8\" >0.350893</td>\n",
       "            </tr>\n",
       "            <tr>\n",
       "                        <th id=\"T_a0b29f38_8db3_11ea_85d2_a86daa1aced4level0_row3\" class=\"row_heading level0 row3\" >AMD</th>\n",
       "                        <td id=\"T_a0b29f38_8db3_11ea_85d2_a86daa1aced4row3_col0\" class=\"data row3 col0\" >0.626733</td>\n",
       "                        <td id=\"T_a0b29f38_8db3_11ea_85d2_a86daa1aced4row3_col1\" class=\"data row3 col1\" >0.849422</td>\n",
       "                        <td id=\"T_a0b29f38_8db3_11ea_85d2_a86daa1aced4row3_col2\" class=\"data row3 col2\" >-0.152725</td>\n",
       "                        <td id=\"T_a0b29f38_8db3_11ea_85d2_a86daa1aced4row3_col3\" class=\"data row3 col3\" >1</td>\n",
       "                        <td id=\"T_a0b29f38_8db3_11ea_85d2_a86daa1aced4row3_col4\" class=\"data row3 col4\" >0.59908</td>\n",
       "                        <td id=\"T_a0b29f38_8db3_11ea_85d2_a86daa1aced4row3_col5\" class=\"data row3 col5\" >-0.197569</td>\n",
       "                        <td id=\"T_a0b29f38_8db3_11ea_85d2_a86daa1aced4row3_col6\" class=\"data row3 col6\" >-0.781843</td>\n",
       "                        <td id=\"T_a0b29f38_8db3_11ea_85d2_a86daa1aced4row3_col7\" class=\"data row3 col7\" >0.783985</td>\n",
       "                        <td id=\"T_a0b29f38_8db3_11ea_85d2_a86daa1aced4row3_col8\" class=\"data row3 col8\" >0.320752</td>\n",
       "            </tr>\n",
       "            <tr>\n",
       "                        <th id=\"T_a0b29f38_8db3_11ea_85d2_a86daa1aced4level0_row4\" class=\"row_heading level0 row4\" >BA</th>\n",
       "                        <td id=\"T_a0b29f38_8db3_11ea_85d2_a86daa1aced4row4_col0\" class=\"data row4 col0\" >0.592057</td>\n",
       "                        <td id=\"T_a0b29f38_8db3_11ea_85d2_a86daa1aced4row4_col1\" class=\"data row4 col1\" >0.822623</td>\n",
       "                        <td id=\"T_a0b29f38_8db3_11ea_85d2_a86daa1aced4row4_col2\" class=\"data row4 col2\" >0.20645</td>\n",
       "                        <td id=\"T_a0b29f38_8db3_11ea_85d2_a86daa1aced4row4_col3\" class=\"data row4 col3\" >0.59908</td>\n",
       "                        <td id=\"T_a0b29f38_8db3_11ea_85d2_a86daa1aced4row4_col4\" class=\"data row4 col4\" >1</td>\n",
       "                        <td id=\"T_a0b29f38_8db3_11ea_85d2_a86daa1aced4row4_col5\" class=\"data row4 col5\" >-0.191538</td>\n",
       "                        <td id=\"T_a0b29f38_8db3_11ea_85d2_a86daa1aced4row4_col6\" class=\"data row4 col6\" >-0.575302</td>\n",
       "                        <td id=\"T_a0b29f38_8db3_11ea_85d2_a86daa1aced4row4_col7\" class=\"data row4 col7\" >0.621865</td>\n",
       "                        <td id=\"T_a0b29f38_8db3_11ea_85d2_a86daa1aced4row4_col8\" class=\"data row4 col8\" >0.320761</td>\n",
       "            </tr>\n",
       "            <tr>\n",
       "                        <th id=\"T_a0b29f38_8db3_11ea_85d2_a86daa1aced4level0_row5\" class=\"row_heading level0 row5\" >LUV</th>\n",
       "                        <td id=\"T_a0b29f38_8db3_11ea_85d2_a86daa1aced4row5_col0\" class=\"data row5 col0\" >0.0760609</td>\n",
       "                        <td id=\"T_a0b29f38_8db3_11ea_85d2_a86daa1aced4row5_col1\" class=\"data row5 col1\" >-0.338754</td>\n",
       "                        <td id=\"T_a0b29f38_8db3_11ea_85d2_a86daa1aced4row5_col2\" class=\"data row5 col2\" >0.389109</td>\n",
       "                        <td id=\"T_a0b29f38_8db3_11ea_85d2_a86daa1aced4row5_col3\" class=\"data row5 col3\" >-0.197569</td>\n",
       "                        <td id=\"T_a0b29f38_8db3_11ea_85d2_a86daa1aced4row5_col4\" class=\"data row5 col4\" >-0.191538</td>\n",
       "                        <td id=\"T_a0b29f38_8db3_11ea_85d2_a86daa1aced4row5_col5\" class=\"data row5 col5\" >1</td>\n",
       "                        <td id=\"T_a0b29f38_8db3_11ea_85d2_a86daa1aced4row5_col6\" class=\"data row5 col6\" >0.636651</td>\n",
       "                        <td id=\"T_a0b29f38_8db3_11ea_85d2_a86daa1aced4row5_col7\" class=\"data row5 col7\" >-0.27593</td>\n",
       "                        <td id=\"T_a0b29f38_8db3_11ea_85d2_a86daa1aced4row5_col8\" class=\"data row5 col8\" >0.396172</td>\n",
       "            </tr>\n",
       "            <tr>\n",
       "                        <th id=\"T_a0b29f38_8db3_11ea_85d2_a86daa1aced4level0_row6\" class=\"row_heading level0 row6\" >AAL</th>\n",
       "                        <td id=\"T_a0b29f38_8db3_11ea_85d2_a86daa1aced4row6_col0\" class=\"data row6 col0\" >-0.435687</td>\n",
       "                        <td id=\"T_a0b29f38_8db3_11ea_85d2_a86daa1aced4row6_col1\" class=\"data row6 col1\" >-0.791399</td>\n",
       "                        <td id=\"T_a0b29f38_8db3_11ea_85d2_a86daa1aced4row6_col2\" class=\"data row6 col2\" >0.315428</td>\n",
       "                        <td id=\"T_a0b29f38_8db3_11ea_85d2_a86daa1aced4row6_col3\" class=\"data row6 col3\" >-0.781843</td>\n",
       "                        <td id=\"T_a0b29f38_8db3_11ea_85d2_a86daa1aced4row6_col4\" class=\"data row6 col4\" >-0.575302</td>\n",
       "                        <td id=\"T_a0b29f38_8db3_11ea_85d2_a86daa1aced4row6_col5\" class=\"data row6 col5\" >0.636651</td>\n",
       "                        <td id=\"T_a0b29f38_8db3_11ea_85d2_a86daa1aced4row6_col6\" class=\"data row6 col6\" >1</td>\n",
       "                        <td id=\"T_a0b29f38_8db3_11ea_85d2_a86daa1aced4row6_col7\" class=\"data row6 col7\" >-0.732251</td>\n",
       "                        <td id=\"T_a0b29f38_8db3_11ea_85d2_a86daa1aced4row6_col8\" class=\"data row6 col8\" >0.0623708</td>\n",
       "            </tr>\n",
       "            <tr>\n",
       "                        <th id=\"T_a0b29f38_8db3_11ea_85d2_a86daa1aced4level0_row7\" class=\"row_heading level0 row7\" >DELL</th>\n",
       "                        <td id=\"T_a0b29f38_8db3_11ea_85d2_a86daa1aced4row7_col0\" class=\"data row7 col0\" >0.588504</td>\n",
       "                        <td id=\"T_a0b29f38_8db3_11ea_85d2_a86daa1aced4row7_col1\" class=\"data row7 col1\" >0.836558</td>\n",
       "                        <td id=\"T_a0b29f38_8db3_11ea_85d2_a86daa1aced4row7_col2\" class=\"data row7 col2\" >-0.124148</td>\n",
       "                        <td id=\"T_a0b29f38_8db3_11ea_85d2_a86daa1aced4row7_col3\" class=\"data row7 col3\" >0.783985</td>\n",
       "                        <td id=\"T_a0b29f38_8db3_11ea_85d2_a86daa1aced4row7_col4\" class=\"data row7 col4\" >0.621865</td>\n",
       "                        <td id=\"T_a0b29f38_8db3_11ea_85d2_a86daa1aced4row7_col5\" class=\"data row7 col5\" >-0.27593</td>\n",
       "                        <td id=\"T_a0b29f38_8db3_11ea_85d2_a86daa1aced4row7_col6\" class=\"data row7 col6\" >-0.732251</td>\n",
       "                        <td id=\"T_a0b29f38_8db3_11ea_85d2_a86daa1aced4row7_col7\" class=\"data row7 col7\" >1</td>\n",
       "                        <td id=\"T_a0b29f38_8db3_11ea_85d2_a86daa1aced4row7_col8\" class=\"data row7 col8\" >0.390765</td>\n",
       "            </tr>\n",
       "            <tr>\n",
       "                        <th id=\"T_a0b29f38_8db3_11ea_85d2_a86daa1aced4level0_row8\" class=\"row_heading level0 row8\" >DAL</th>\n",
       "                        <td id=\"T_a0b29f38_8db3_11ea_85d2_a86daa1aced4row8_col0\" class=\"data row8 col0\" >0.551621</td>\n",
       "                        <td id=\"T_a0b29f38_8db3_11ea_85d2_a86daa1aced4row8_col1\" class=\"data row8 col1\" >0.425321</td>\n",
       "                        <td id=\"T_a0b29f38_8db3_11ea_85d2_a86daa1aced4row8_col2\" class=\"data row8 col2\" >0.350893</td>\n",
       "                        <td id=\"T_a0b29f38_8db3_11ea_85d2_a86daa1aced4row8_col3\" class=\"data row8 col3\" >0.320752</td>\n",
       "                        <td id=\"T_a0b29f38_8db3_11ea_85d2_a86daa1aced4row8_col4\" class=\"data row8 col4\" >0.320761</td>\n",
       "                        <td id=\"T_a0b29f38_8db3_11ea_85d2_a86daa1aced4row8_col5\" class=\"data row8 col5\" >0.396172</td>\n",
       "                        <td id=\"T_a0b29f38_8db3_11ea_85d2_a86daa1aced4row8_col6\" class=\"data row8 col6\" >0.0623708</td>\n",
       "                        <td id=\"T_a0b29f38_8db3_11ea_85d2_a86daa1aced4row8_col7\" class=\"data row8 col7\" >0.390765</td>\n",
       "                        <td id=\"T_a0b29f38_8db3_11ea_85d2_a86daa1aced4row8_col8\" class=\"data row8 col8\" >1</td>\n",
       "            </tr>\n",
       "    </tbody></table>"
      ],
      "text/plain": [
       "<pandas.io.formats.style.Styler at 0x235162e80f0>"
      ]
     },
     "execution_count": 3,
     "metadata": {},
     "output_type": "execute_result"
    }
   ],
   "source": [
    "corr = pd.DataFrame(np.corrcoef(data), index=ticker, columns=ticker)\n",
    "print(\"Correlation Matrix:\")\n",
    "corr.style.background_gradient(cmap='coolwarm', axis = 0, low = 1)"
   ]
  },
  {
   "cell_type": "code",
   "execution_count": 4,
   "metadata": {},
   "outputs": [
    {
     "name": "stdout",
     "output_type": "stream",
     "text": [
      "A pair with the highest absolute correlation:\n",
      "\n",
      " corr[ MSFT , AMD ]= 0.8494\n"
     ]
    }
   ],
   "source": [
    "def find_pair(corr):\n",
    "    highest = 0;\n",
    "    ind = 0;\n",
    "    col = 0;\n",
    "    for i in range(0, corr.shape[0]):\n",
    "        for j in range(i+1, corr.shape[1]):\n",
    "            if abs(corr.iloc[i, j]) > highest:\n",
    "                highest = abs(corr.iloc[i, j])\n",
    "                ind = i\n",
    "                col = j\n",
    "    return highest, ind, col\n",
    "\n",
    "val, i, j = find_pair(corr)\n",
    "print(\"A pair with the highest absolute correlation:\\n\\n\", 'corr[',corr.index[i], ',', corr.columns[j],']=', round(val, 4))"
   ]
  },
  {
   "cell_type": "markdown",
   "metadata": {},
   "source": [
    "Based on the above correlation matrix, we will work with **MSFT** and **AMD**, which show highest (historical) correlation  among selected samples."
   ]
  },
  {
   "cell_type": "code",
   "execution_count": 5,
   "metadata": {},
   "outputs": [
    {
     "data": {
      "text/plain": [
       "Text(0.5, 0, 't')"
      ]
     },
     "execution_count": 5,
     "metadata": {},
     "output_type": "execute_result"
    },
    {
     "data": {
      "image/png": "[encoded data removed]",
      "text/plain": [
       "<Figure size 720x432 with 1 Axes>"
      ]
     },
     "metadata": {
      "needs_background": "light"
     },
     "output_type": "display_data"
    }
   ],
   "source": [
    "msft = data[i]\n",
    "amd = data[j]\n",
    "t = np.arange(len(msft))\n",
    "\n",
    "plt.figure(figsize=(10, 6))\n",
    "plt.plot(msft)\n",
    "plt.plot(amd)\n",
    "plt.legend([ticker[i], ticker[j]])\n",
    "plt.ylabel('Price(USD)', fontsize=12)\n",
    "plt.xlabel('t', fontsize=12)"
   ]
  },
  {
   "cell_type": "markdown",
   "metadata": {},
   "source": [
    "### Step 3: Contructing our time series data"
   ]
  },
  {
   "cell_type": "markdown",
   "metadata": {},
   "source": [
    "**(1) 1st-order differencing**  \n",
    "  \n",
    "Our goal is to model the spread in daily price change of the two stocks, and we also expect     that the upward trends in both stocks can be removed through this process."
   ]
  },
  {
   "cell_type": "code",
   "execution_count": 6,
   "metadata": {},
   "outputs": [],
   "source": [
    "dmsft = msft.diff().dropna()\n",
    "damd = amd.diff().dropna()"
   ]
  },
  {
   "cell_type": "markdown",
   "metadata": {},
   "source": [
    "**(2) X: daily price chg. MSFT $-$ daily price chg. AMD** "
   ]
  },
  {
   "cell_type": "code",
   "execution_count": 7,
   "metadata": {},
   "outputs": [
    {
     "name": "stdout",
     "output_type": "stream",
     "text": [
      "(500,)\n",
      "Date\n",
      "2017-07-05   -0.129996\n",
      "2017-07-06   -0.340003\n",
      "2017-07-07    0.550000\n",
      "2017-07-10    0.070004\n",
      "2017-07-11   -0.070005\n",
      "Name: Close, dtype: float64\n",
      "Date\n",
      "2019-06-24    0.649998\n",
      "2019-06-25   -3.950006\n",
      "2019-06-26   -0.559999\n",
      "2019-06-27   -0.599998\n",
      "2019-06-28    0.180012\n",
      "Name: Close, dtype: float64\n"
     ]
    }
   ],
   "source": [
    "pf = dmsft - damd\n",
    "print(pf.shape)\n",
    "print(pf.head(5))\n",
    "print(pf.tail(5))"
   ]
  },
  {
   "cell_type": "code",
   "execution_count": 8,
   "metadata": {
    "scrolled": true
   },
   "outputs": [
    {
     "data": {
      "image/png": "[encoded data removed]",
      "text/plain": [
       "<Figure size 864x288 with 1 Axes>"
      ]
     },
     "metadata": {
      "needs_background": "light"
     },
     "output_type": "display_data"
    }
   ],
   "source": [
    "plt.figure(figsize=(12, 4))\n",
    "plt.plot(np.arange(len(pf)), pf);\n",
    "plt.title(\"Spread in Daily Price Change (1 MSFT, 1 AMD)\", fontsize=14)\n",
    "plt.xlabel('t', fontsize=12)\n",
    "plt.ylabel('X(t)', fontsize=12)\n",
    "plt.show()"
   ]
  },
  {
   "cell_type": "markdown",
   "metadata": {},
   "source": [
    "**X(t)** =  $\\nabla_{t,~t-1}$ MSTF(USD) $-$ $ \\nabla_{t,~t-1}$ AMD(USD)\n",
    "  \n",
    "**t** = 0, 1, ... , 501 (2018-07-05, 2018-07-06, ... ,2019-06-28)  \n"
   ]
  },
  {
   "cell_type": "markdown",
   "metadata": {},
   "source": [
    "### Step 4: Checking stationarity of our data"
   ]
  },
  {
   "cell_type": "markdown",
   "metadata": {},
   "source": [
    "Even though the graph looks like white noise, there might be implicit trend, cycle, or seasonality."
   ]
  },
  {
   "cell_type": "markdown",
   "metadata": {},
   "source": [
    "- **Unit Root Test (Augmented Dickey Fuller test)**  \n",
    "  \n",
    "$H_0$: unit root is present (non-stationary)    \n",
    "$H_0$: $H_0$ is not true (stationary)"
   ]
  },
  {
   "cell_type": "code",
   "execution_count": 9,
   "metadata": {},
   "outputs": [
    {
     "name": "stdout",
     "output_type": "stream",
     "text": [
      "ADF Statistic: -19.664391134292185\n",
      "\n",
      "p-value: 0.0\n",
      "\n",
      "alpha= 1%, -3.4435494520411605\n",
      "Reject Null Hypothesis: the data is likely to be stationary\n",
      "\n",
      "alpha= 5%, -2.8673612117611267\n",
      "Reject Null Hypothesis: the data is likely to be stationary\n",
      "\n",
      "alpha= 10%, -2.5698704830567247\n",
      "Reject Null Hypothesis: the data is likely to be stationary\n",
      "\n",
      "E[X(t)]= 0.0951\n",
      "Var[X(t)]= 2.0785\n"
     ]
    }
   ],
   "source": [
    "def adf_test(pf):\n",
    "    result = adfuller(pf, autolag='AIC')\n",
    "    print(f'ADF Statistic: {result[0]}'+\"\\n\")\n",
    "    print(f'p-value: {result[1]}'+\"\\n\")\n",
    "    for key, value in result[4].items():\n",
    "        print(\"alpha=\"+f' {key}, {value}')\n",
    "        if abs(result[0]) > abs(value):\n",
    "            print(\"Reject Null Hypothesis: the data is likely to be stationary\\n\")\n",
    "    mu = np.mean(pf)\n",
    "    sigsq = np.var(pf, ddof=1)\n",
    "    print('E[X(t)]=',round(mu, 4))\n",
    "    print('Var[X(t)]=',round(sigsq, 4))\n",
    "    \n",
    "adf_test(pf)"
   ]
  },
  {
   "cell_type": "markdown",
   "metadata": {},
   "source": [
    "Based on the ADF test result, our data is stationary at 99% confidence level, with the mean 0.0951."
   ]
  },
  {
   "cell_type": "markdown",
   "metadata": {},
   "source": [
    "### Step 5: Model Selection"
   ]
  },
  {
   "cell_type": "markdown",
   "metadata": {},
   "source": [
    "**(1) Visualizing ACF and PACF plots using python libary**"
   ]
  },
  {
   "cell_type": "code",
   "execution_count": 10,
   "metadata": {},
   "outputs": [
    {
     "data": {
      "image/png": "[encoded data removed]",
      "text/plain": [
       "<Figure size 1200x300 with 2 Axes>"
      ]
     },
     "metadata": {
      "needs_background": "light"
     },
     "output_type": "display_data"
    }
   ],
   "source": [
    "fig, axes = plt.subplots(1,2,figsize=(16,4), dpi= 75)\n",
    "fig.suptitle(\"Observed ACF of the data\", y=1.05)\n",
    "plot_acf(pf, lags=50, ax=axes[0]);\n",
    "plot_pacf(pf, lags=50, ax=axes[1]);"
   ]
  },
  {
   "cell_type": "markdown",
   "metadata": {},
   "source": [
    "Based on ACF and PACF plots, autocorrelation of 1 lag and 2 lags seem significant. We will build several ARMA models to confirm this."
   ]
  },
  {
   "cell_type": "markdown",
   "metadata": {},
   "source": [
    "**(2) Fit ARMA(p, q)**"
   ]
  },
  {
   "cell_type": "code",
   "execution_count": 11,
   "metadata": {},
   "outputs": [
    {
     "name": "stdout",
     "output_type": "stream",
     "text": [
      "                              ARMA Model Results                              \n",
      "==============================================================================\n",
      "Dep. Variable:                  Close   No. Observations:                  500\n",
      "Model:                     ARMA(2, 1)   Log Likelihood                -880.892\n",
      "Method:                       css-mle   S.D. of innovations              1.409\n",
      "Date:                Sun, 03 May 2020   AIC                           1771.784\n",
      "Time:                        23:02:03   BIC                           1792.857\n",
      "Sample:                             0   HQIC                          1780.053\n",
      "                                                                              \n",
      "===============================================================================\n",
      "                  coef    std err          z      P>|z|      [0.025      0.975]\n",
      "-------------------------------------------------------------------------------\n",
      "const           0.0955      0.049      1.950      0.052      -0.000       0.191\n",
      "ar.L1.Close    -0.2864      0.248     -1.156      0.248      -0.772       0.199\n",
      "ar.L2.Close    -0.1761      0.052     -3.408      0.001      -0.277      -0.075\n",
      "ma.L1.Close     0.1356      0.251      0.540      0.589      -0.356       0.627\n",
      "                                    Roots                                    \n",
      "=============================================================================\n",
      "                  Real          Imaginary           Modulus         Frequency\n",
      "-----------------------------------------------------------------------------\n",
      "AR.1           -0.8132           -2.2397j            2.3828           -0.3054\n",
      "AR.2           -0.8132           +2.2397j            2.3828            0.3054\n",
      "MA.1           -7.3750           +0.0000j            7.3750            0.5000\n",
      "-----------------------------------------------------------------------------\n"
     ]
    }
   ],
   "source": [
    "model = ARIMA(pf, order=(2,0,1))\n",
    "result1 = model.fit(disp=0)\n",
    "print(result1.summary())"
   ]
  },
  {
   "cell_type": "markdown",
   "metadata": {},
   "source": [
    "The coefficient of MA(1) term is not statistically significant based on its p-value."
   ]
  },
  {
   "cell_type": "code",
   "execution_count": 12,
   "metadata": {},
   "outputs": [
    {
     "name": "stdout",
     "output_type": "stream",
     "text": [
      "                              ARMA Model Results                              \n",
      "==============================================================================\n",
      "Dep. Variable:                  Close   No. Observations:                  500\n",
      "Model:                     ARMA(2, 0)   Log Likelihood                -881.017\n",
      "Method:                       css-mle   S.D. of innovations              1.409\n",
      "Date:                Sun, 03 May 2020   AIC                           1770.034\n",
      "Time:                        23:02:03   BIC                           1786.892\n",
      "Sample:                             0   HQIC                          1776.649\n",
      "                                                                              \n",
      "===============================================================================\n",
      "                  coef    std err          z      P>|z|      [0.025      0.975]\n",
      "-------------------------------------------------------------------------------\n",
      "const           0.0955      0.048      1.987      0.047       0.001       0.190\n",
      "ar.L1.Close    -0.1543      0.044     -3.498      0.001      -0.241      -0.068\n",
      "ar.L2.Close    -0.1585      0.044     -3.595      0.000      -0.245      -0.072\n",
      "                                    Roots                                    \n",
      "=============================================================================\n",
      "                  Real          Imaginary           Modulus         Frequency\n",
      "-----------------------------------------------------------------------------\n",
      "AR.1           -0.4870           -2.4645j            2.5121           -0.2810\n",
      "AR.2           -0.4870           +2.4645j            2.5121            0.2810\n",
      "-----------------------------------------------------------------------------\n"
     ]
    }
   ],
   "source": [
    "model = ARIMA(pf, order=(2,0,0))\n",
    "result2 = model.fit(disp=0)\n",
    "print(result2.summary())"
   ]
  },
  {
   "cell_type": "markdown",
   "metadata": {},
   "source": [
    "Based on the above results, we can select AR(2) model for significant p-values given 95% confidence level even though the values of the coefficients are rather small. At this point, AR(2) model seems to be the best model. Now we will check the residuals."
   ]
  },
  {
   "cell_type": "markdown",
   "metadata": {},
   "source": [
    "### Step 6: Checking residuals"
   ]
  },
  {
   "cell_type": "code",
   "execution_count": 13,
   "metadata": {},
   "outputs": [
    {
     "name": "stdout",
     "output_type": "stream",
     "text": [
      "E[Residuals]= -0.0003\n",
      "Var[Residuals]= 1.9899\n"
     ]
    },
    {
     "data": {
      "image/png": "[encoded data removed]",
      "text/plain": [
       "<Figure size 720x288 with 1 Axes>"
      ]
     },
     "metadata": {
      "needs_background": "light"
     },
     "output_type": "display_data"
    }
   ],
   "source": [
    "residual_mean = np.mean(result2.resid)\n",
    "residual_var = np.var(result2.resid, ddof=1)\n",
    "\n",
    "print('E[Residuals]=', round(residual_mean, 4))\n",
    "print('Var[Residuals]=', round(residual_var, 4))\n",
    "plt.figure(figsize=(10, 4))\n",
    "plt.plot(np.arange(len(result2.resid)), result2.resid)\n",
    "plt.title('Residuals : AR(2)')\n",
    "plt.show()"
   ]
  },
  {
   "cell_type": "markdown",
   "metadata": {},
   "source": [
    "**(1) Checking Stationarity of Residuals AR(2)**"
   ]
  },
  {
   "cell_type": "code",
   "execution_count": 14,
   "metadata": {},
   "outputs": [
    {
     "name": "stdout",
     "output_type": "stream",
     "text": [
      "ADF Statistic: -22.22473332490456\n",
      "\n",
      "p-value: 0.0\n",
      "\n",
      "alpha= 1%, -3.4435228622952065\n",
      "Reject Null Hypothesis: the data is likely to be stationary\n",
      "\n",
      "alpha= 5%, -2.867349510566146\n",
      "Reject Null Hypothesis: the data is likely to be stationary\n",
      "\n",
      "alpha= 10%, -2.569864247011056\n",
      "Reject Null Hypothesis: the data is likely to be stationary\n",
      "\n",
      "E[X(t)]= -0.0003\n",
      "Var[X(t)]= 1.9899\n"
     ]
    }
   ],
   "source": [
    "adf_test(result2.resid)"
   ]
  },
  {
   "cell_type": "markdown",
   "metadata": {},
   "source": [
    "Based on the ADF test result, the residuals of our AR(2) model are stationary."
   ]
  },
  {
   "cell_type": "markdown",
   "metadata": {},
   "source": [
    "**(2) Checking linear independence of Residuals AR(2)**"
   ]
  },
  {
   "cell_type": "code",
   "execution_count": 15,
   "metadata": {},
   "outputs": [
    {
     "data": {
      "image/png": "[encoded data removed]",
      "text/plain": [
       "<Figure size 1200x300 with 2 Axes>"
      ]
     },
     "metadata": {
      "needs_background": "light"
     },
     "output_type": "display_data"
    }
   ],
   "source": [
    "fig, axes = plt.subplots(1,2,figsize=(16,4), dpi= 75)\n",
    "fig.suptitle(\"Residuals of AR(2)\", y=1.05)\n",
    "plot_acf(result2.resid, lags=50, ax=axes[0]);\n",
    "plot_pacf(result2.resid, lags=50, ax=axes[1]);"
   ]
  },
  {
   "cell_type": "markdown",
   "metadata": {},
   "source": [
    "The residuals look almost like white noise with the mean very close to 0, but we will verify this with Ljung-Box test"
   ]
  },
  {
   "cell_type": "code",
   "execution_count": 16,
   "metadata": {},
   "outputs": [],
   "source": [
    "def get_ACF(x, n):\n",
    "    \n",
    "    acf = np.ones(n) * 0.001\n",
    "    #print(acf)\n",
    "    #print(acf.shape)\n",
    "    length = len(x)\n",
    "\n",
    "    for i in range(1, n+1):\n",
    "        x1 = x[0+i:length]\n",
    "        var1 = np.var(x1)\n",
    "        mu = np.mean(x) * np.ones_like(x1)\n",
    "        x2 = x[0:length-i]\n",
    "        var2 = np.var(x2)\n",
    "        cov = np.dot((x1 - mu), (x2 - mu)) / len(x1) \n",
    "        acf[i-1] = cov / (np.sqrt(var1) * np.sqrt(var2))\n",
    "        \n",
    "    return acf\n",
    "\n",
    "def Ljung_Box_a90(x, acf, n):\n",
    "    crt = [2.706, 2.706, 2.706, 4.605, 6.251, 7.779, 9.236, 10.645, 12.017, 13.362]\n",
    "    Q = np.zeros(n)\n",
    "    length = len(x)\n",
    "    dec = []\n",
    "    for i in range(n):\n",
    "        Q[i] = length*(length+2)*sum([acf[k]**2 / (length - k - 1) for k in range(i+1)])\n",
    "        #print(Q[i])\n",
    "        \n",
    "        if Q[i] > crt[i]:\n",
    "            dec.append(\"Yes (model bad)\")\n",
    "        else:\n",
    "            dec.append(\"No (model good)\")\n",
    "                   \n",
    "    return Q, np.array(dec)"
   ]
  },
  {
   "cell_type": "markdown",
   "metadata": {},
   "source": [
    "- **Ljung-Box test**  \n",
    "  \n",
    "**$H0:$** Data are independently distributed ($\\rho_1 =\\rho_2 = ... =\\rho_{10} = 0$)    \n",
    "**$H1:$** $H0$ is not True  "
   ]
  },
  {
   "cell_type": "markdown",
   "metadata": {},
   "source": [
    "Ljung-Box statistic: $Q=n(n+2)\\Sigma_{i=1}^k \\rho_{i}^2~/~(n-i)$  \n",
    "Significane level: $\\alpha=0.05$ (90% confidence)  \n",
    "Reject the null hypothesis if $Q>\\chi_{1-\\alpha, h}$"
   ]
  },
  {
   "cell_type": "code",
   "execution_count": 17,
   "metadata": {},
   "outputs": [
    {
     "name": "stdout",
     "output_type": "stream",
     "text": [
      "90% Confidence Level\n"
     ]
    },
    {
     "data": {
      "text/html": [
       "<div>\n",
       "<style scoped>\n",
       "    .dataframe tbody tr th:only-of-type {\n",
       "        vertical-align: middle;\n",
       "    }\n",
       "\n",
       "    .dataframe tbody tr th {\n",
       "        vertical-align: top;\n",
       "    }\n",
       "\n",
       "    .dataframe thead th {\n",
       "        text-align: right;\n",
       "    }\n",
       "</style>\n",
       "<table border=\"1\" class=\"dataframe\">\n",
       "  <thead>\n",
       "    <tr style=\"text-align: right;\">\n",
       "      <th></th>\n",
       "      <th>ACF</th>\n",
       "      <th>Q-statistic</th>\n",
       "      <th>Reject Null?</th>\n",
       "    </tr>\n",
       "    <tr>\n",
       "      <th>Lag</th>\n",
       "      <th></th>\n",
       "      <th></th>\n",
       "      <th></th>\n",
       "    </tr>\n",
       "  </thead>\n",
       "  <tbody>\n",
       "    <tr>\n",
       "      <th>1</th>\n",
       "      <td>0.003107</td>\n",
       "      <td>0.004855</td>\n",
       "      <td>No (model good)</td>\n",
       "    </tr>\n",
       "    <tr>\n",
       "      <th>2</th>\n",
       "      <td>-0.000896</td>\n",
       "      <td>0.005260</td>\n",
       "      <td>No (model good)</td>\n",
       "    </tr>\n",
       "    <tr>\n",
       "      <th>3</th>\n",
       "      <td>0.006032</td>\n",
       "      <td>0.023634</td>\n",
       "      <td>No (model good)</td>\n",
       "    </tr>\n",
       "    <tr>\n",
       "      <th>4</th>\n",
       "      <td>-0.029657</td>\n",
       "      <td>0.468717</td>\n",
       "      <td>No (model good)</td>\n",
       "    </tr>\n",
       "    <tr>\n",
       "      <th>5</th>\n",
       "      <td>-0.072357</td>\n",
       "      <td>3.123523</td>\n",
       "      <td>No (model good)</td>\n",
       "    </tr>\n",
       "    <tr>\n",
       "      <th>6</th>\n",
       "      <td>0.023719</td>\n",
       "      <td>3.409375</td>\n",
       "      <td>No (model good)</td>\n",
       "    </tr>\n",
       "    <tr>\n",
       "      <th>7</th>\n",
       "      <td>-0.014236</td>\n",
       "      <td>3.512551</td>\n",
       "      <td>No (model good)</td>\n",
       "    </tr>\n",
       "    <tr>\n",
       "      <th>8</th>\n",
       "      <td>-0.047100</td>\n",
       "      <td>4.644320</td>\n",
       "      <td>No (model good)</td>\n",
       "    </tr>\n",
       "    <tr>\n",
       "      <th>9</th>\n",
       "      <td>0.007086</td>\n",
       "      <td>4.669985</td>\n",
       "      <td>No (model good)</td>\n",
       "    </tr>\n",
       "    <tr>\n",
       "      <th>10</th>\n",
       "      <td>-0.019557</td>\n",
       "      <td>4.865913</td>\n",
       "      <td>No (model good)</td>\n",
       "    </tr>\n",
       "  </tbody>\n",
       "</table>\n",
       "</div>"
      ],
      "text/plain": [
       "          ACF  Q-statistic     Reject Null?\n",
       "Lag                                        \n",
       "1    0.003107     0.004855  No (model good)\n",
       "2   -0.000896     0.005260  No (model good)\n",
       "3    0.006032     0.023634  No (model good)\n",
       "4   -0.029657     0.468717  No (model good)\n",
       "5   -0.072357     3.123523  No (model good)\n",
       "6    0.023719     3.409375  No (model good)\n",
       "7   -0.014236     3.512551  No (model good)\n",
       "8   -0.047100     4.644320  No (model good)\n",
       "9    0.007086     4.669985  No (model good)\n",
       "10  -0.019557     4.865913  No (model good)"
      ]
     },
     "execution_count": 17,
     "metadata": {},
     "output_type": "execute_result"
    }
   ],
   "source": [
    "n = 10\n",
    "                       \n",
    "acf2 = get_ACF(result2.resid, n)\n",
    "Q, conc = Ljung_Box_a90(result2.resid, acf2, n)\n",
    "\n",
    "df_acf = pd.DataFrame(data={\"ACF\": acf2, \"Q-statistic\":Q, \"Reject Null?\":conc}, index = np.arange(1, n+1))\n",
    "df_acf.index.name = 'Lag'\n",
    "print(\"90% Confidence Level\")\n",
    "df_acf"
   ]
  },
  {
   "cell_type": "markdown",
   "metadata": {},
   "source": [
    "The residuals of AR(2) model may not be almost surely zero,  but at 90% confidence level, Null Hypothesis holds true. Therefore, we will assume independece of residuals for now. (we chose 90% over 95% in order to reduce the likelihood of type 2 error)"
   ]
  },
  {
   "cell_type": "code",
   "execution_count": 18,
   "metadata": {},
   "outputs": [
    {
     "name": "stdout",
     "output_type": "stream",
     "text": [
      "E[Residuals]= -0.0003\n",
      "Var[Residuals]= 1.9899\n"
     ]
    },
    {
     "data": {
      "image/png": "[encoded data removed]",
      "text/plain": [
       "<Figure size 432x288 with 1 Axes>"
      ]
     },
     "metadata": {
      "needs_background": "light"
     },
     "output_type": "display_data"
    }
   ],
   "source": [
    "print('E[Residuals]=', round(residual_mean, 4))\n",
    "print('Var[Residuals]=', round(residual_var, 4))\n",
    "plt.hist(pf);\n",
    "plt.xlabel('X(t)');\n",
    "plt.ylabel('Count');\n",
    "plt.show()"
   ]
  },
  {
   "cell_type": "markdown",
   "metadata": {},
   "source": [
    "The residuals look roughly normal with mean 0. We will try chi-square test to check normality"
   ]
  },
  {
   "cell_type": "markdown",
   "metadata": {},
   "source": [
    "**(3) Testing if -0.0003 is significantly different from 0** "
   ]
  },
  {
   "cell_type": "markdown",
   "metadata": {},
   "source": [
    "$H_0: \\mu_{\\omega}=E[Residual] = 0$  \n",
    "$H_1:$ $H_0$ is not true  \n",
    "  \n",
    "**t-statistic:** $(\\overline{Resdual}-0)$ / $\\sqrt{1.9899 / 500}$,     \n",
    "$\\overline{Resdual}$ ~ $N(\\mu_{\\omega} , \\sqrt{s_{\\omega} / n})$, by **CLT**"
   ]
  },
  {
   "cell_type": "code",
   "execution_count": 19,
   "metadata": {},
   "outputs": [
    {
     "name": "stdout",
     "output_type": "stream",
     "text": [
      "t-statistic= 0.004272757538945804\n",
      "|z value(a=0.01)| = 2.575\n",
      "Do not reject H0\n"
     ]
    }
   ],
   "source": [
    "tstat = abs((residual_mean - 0) / np.sqrt(residual_var / len(result2.resid)))\n",
    "print(\"t-statistic=\", tstat)\n",
    "print(\"|z value(a=0.01)| =\", 2.575)\n",
    "if tstat > 2.575:\n",
    "    print(\"Reject H0\")\n",
    "else:\n",
    "    print(\"Do not reject H0\")"
   ]
  },
  {
   "cell_type": "markdown",
   "metadata": {},
   "source": [
    "At 99% confidence level, we can assume that the mean of residuals is 0"
   ]
  },
  {
   "cell_type": "markdown",
   "metadata": {},
   "source": [
    "**(4) Normality test (bucket test)**  "
   ]
  },
  {
   "cell_type": "markdown",
   "metadata": {},
   "source": [
    "$H_0:$ Residual is Normal  \n",
    "$H_1:$ $H_0$ is not true"
   ]
  },
  {
   "cell_type": "code",
   "execution_count": 20,
   "metadata": {},
   "outputs": [],
   "source": [
    "b = 10\n",
    "df_bucket = pd.DataFrame(data=.1 * np.ones((b, 1)), columns=['exp(p)'])\n",
    "df_bucket['exp'] = df_bucket['exp(p)'] * len(result2.resid)\n",
    "temp = np.zeros(b)\n",
    "\n",
    "for i in range(b):\n",
    "    temp[i] = sum(((result2.resid - residual_mean) / np.sqrt(residual_var)) <= stats.norm.ppf((i + 1) / b))\n",
    "\n",
    "obs = np.diff(temp)\n",
    "obs = np.insert(obs, 0, temp[0])\n",
    "#print(obs.shape)\n",
    "df_bucket['obs'] = obs\n",
    "df_bucket['(obs-exp)^2/exp'] = (df_bucket['exp'] - df_bucket['obs'])**2 / df_bucket['exp']"
   ]
  },
  {
   "cell_type": "code",
   "execution_count": 21,
   "metadata": {},
   "outputs": [
    {
     "data": {
      "text/html": [
       "<div>\n",
       "<style scoped>\n",
       "    .dataframe tbody tr th:only-of-type {\n",
       "        vertical-align: middle;\n",
       "    }\n",
       "\n",
       "    .dataframe tbody tr th {\n",
       "        vertical-align: top;\n",
       "    }\n",
       "\n",
       "    .dataframe thead th {\n",
       "        text-align: right;\n",
       "    }\n",
       "</style>\n",
       "<table border=\"1\" class=\"dataframe\">\n",
       "  <thead>\n",
       "    <tr style=\"text-align: right;\">\n",
       "      <th></th>\n",
       "      <th>exp(p)</th>\n",
       "      <th>exp</th>\n",
       "      <th>obs</th>\n",
       "      <th>(obs-exp)^2/exp</th>\n",
       "    </tr>\n",
       "  </thead>\n",
       "  <tbody>\n",
       "    <tr>\n",
       "      <th>0</th>\n",
       "      <td>0.1</td>\n",
       "      <td>50.0</td>\n",
       "      <td>36.0</td>\n",
       "      <td>3.92</td>\n",
       "    </tr>\n",
       "    <tr>\n",
       "      <th>1</th>\n",
       "      <td>0.1</td>\n",
       "      <td>50.0</td>\n",
       "      <td>35.0</td>\n",
       "      <td>4.50</td>\n",
       "    </tr>\n",
       "    <tr>\n",
       "      <th>2</th>\n",
       "      <td>0.1</td>\n",
       "      <td>50.0</td>\n",
       "      <td>52.0</td>\n",
       "      <td>0.08</td>\n",
       "    </tr>\n",
       "    <tr>\n",
       "      <th>3</th>\n",
       "      <td>0.1</td>\n",
       "      <td>50.0</td>\n",
       "      <td>45.0</td>\n",
       "      <td>0.50</td>\n",
       "    </tr>\n",
       "    <tr>\n",
       "      <th>4</th>\n",
       "      <td>0.1</td>\n",
       "      <td>50.0</td>\n",
       "      <td>76.0</td>\n",
       "      <td>13.52</td>\n",
       "    </tr>\n",
       "    <tr>\n",
       "      <th>5</th>\n",
       "      <td>0.1</td>\n",
       "      <td>50.0</td>\n",
       "      <td>69.0</td>\n",
       "      <td>7.22</td>\n",
       "    </tr>\n",
       "    <tr>\n",
       "      <th>6</th>\n",
       "      <td>0.1</td>\n",
       "      <td>50.0</td>\n",
       "      <td>66.0</td>\n",
       "      <td>5.12</td>\n",
       "    </tr>\n",
       "    <tr>\n",
       "      <th>7</th>\n",
       "      <td>0.1</td>\n",
       "      <td>50.0</td>\n",
       "      <td>50.0</td>\n",
       "      <td>0.00</td>\n",
       "    </tr>\n",
       "    <tr>\n",
       "      <th>8</th>\n",
       "      <td>0.1</td>\n",
       "      <td>50.0</td>\n",
       "      <td>38.0</td>\n",
       "      <td>2.88</td>\n",
       "    </tr>\n",
       "    <tr>\n",
       "      <th>9</th>\n",
       "      <td>0.1</td>\n",
       "      <td>50.0</td>\n",
       "      <td>33.0</td>\n",
       "      <td>5.78</td>\n",
       "    </tr>\n",
       "  </tbody>\n",
       "</table>\n",
       "</div>"
      ],
      "text/plain": [
       "   exp(p)   exp   obs  (obs-exp)^2/exp\n",
       "0     0.1  50.0  36.0             3.92\n",
       "1     0.1  50.0  35.0             4.50\n",
       "2     0.1  50.0  52.0             0.08\n",
       "3     0.1  50.0  45.0             0.50\n",
       "4     0.1  50.0  76.0            13.52\n",
       "5     0.1  50.0  69.0             7.22\n",
       "6     0.1  50.0  66.0             5.12\n",
       "7     0.1  50.0  50.0             0.00\n",
       "8     0.1  50.0  38.0             2.88\n",
       "9     0.1  50.0  33.0             5.78"
      ]
     },
     "execution_count": 21,
     "metadata": {},
     "output_type": "execute_result"
    }
   ],
   "source": [
    "df_bucket"
   ]
  },
  {
   "cell_type": "code",
   "execution_count": 22,
   "metadata": {},
   "outputs": [
    {
     "name": "stdout",
     "output_type": "stream",
     "text": [
      "Chi-squared_obs =  43.52 ( dof= 9 , alpha= 0.01)\n",
      "critical value = 23.589\n",
      "Reject H0\n"
     ]
    }
   ],
   "source": [
    "chi_stat = sum(df_bucket['(obs-exp)^2/exp'])\n",
    "print(\"Chi-squared_obs = \", chi_stat, '( dof=', b-1, ', alpha= 0.01)')\n",
    "print(\"critical value =\", 23.589)\n",
    "if chi_stat > 23.589:\n",
    "    print(\"Reject H0\")\n",
    "else:\n",
    "    print(\"Do not reject H0\")"
   ]
  },
  {
   "cell_type": "markdown",
   "metadata": {},
   "source": [
    "We don't have sufficient evidence to say that the residual of AR(2) model is normally distributed, but at least we can say it has linearly independent distribution and has a roughly normal shape with mean 0 (random shock). "
   ]
  },
  {
   "cell_type": "markdown",
   "metadata": {},
   "source": [
    "$AR(2) :X_t=0.096-0.154 X_{t-1}-0.159 X_{t-2} + \\omega_t,~~\\omega_t$~$(0, 1.99)$ \n",
    "\n",
    "$0.159X_{t-2} + 0.154X_{t-1} + X_t = 0.096 + \\omega_t$  \n",
    "$(1 + 0.154B + 0.159B^2)X_t = 0.096  + \\omega_t$ \n",
    "\n",
    "$(.159X_{t-2} + 0.154X_{t-1} + X_t)(X_{t+h}) = (0.096 + \\omega_t)X_{t+h}$\n",
    "\n",
    "$0.159\\gamma(h-2) + 0.154\\gamma(h-1) + \\gamma(h) = 0.096 E[X_{t+h}]$\n",
    "\n",
    "$E[X(t)]= -0.0003$\n",
    "\n",
    "$0.096*-0.0003 \\approx 0 $\n",
    "\n",
    "$0.159\\gamma(h-2) + 0.154\\gamma(h-1) + \\gamma(h) \\approx 0$\n",
    "\n",
    "$\\rho(h) + 0.154\\rho(h-1) + 0.159\\rho(h-2) = 0$\n",
    "\n",
    "$\\phi(z) = 1 + 0.154z + 0.159z^2$\n",
    "\n",
    "$z = -0.484 \\pm 2.461 i$  \n",
    "$|z| = 2.508$  \n",
    "$\\theta = -1.765$\n",
    "\n",
    "$\\rho(h) = a|z|^{-h}\\cos(h\\theta + b) = a2.508^{-h}\\cos(-1.765h + b)$\n",
    "\n",
    "$\\rho(0) = 1 = a\\cos(b)$\n",
    "\n",
    "$\\rho(1):$  \n",
    "$\\rho(1) + 0.154 + 0.159\\rho(1) = 0 $  \n",
    "$\\rho(1) = \\frac{-0.154}{1+0.159} \\approx -0.133  $  \n",
    "$-0.133 \\approx a2.508^{-1}\\cos(-1.765 + b)$\n",
    "\n",
    "Via Wolfram Alpha:\n",
    "\n",
    "$a \\approx 1.0102$  \n",
    "$b \\approx 3.000$\n",
    "\n",
    "$\\rho(h) \\approx -1.0102\\times2.508^{-h}\\cos(-1.765 h + 3)$"
   ]
  },
  {
   "cell_type": "markdown",
   "metadata": {},
   "source": [
    "### Step 7: Calculating Model ACF using math to compare with the observed ACF"
   ]
  },
  {
   "cell_type": "code",
   "execution_count": 23,
   "metadata": {},
   "outputs": [],
   "source": [
    "def analytical_ACF(h):\n",
    "    return -1.0102*2.50814**-h *np.cos(-1.765986*h + 2.99928)"
   ]
  },
  {
   "cell_type": "code",
   "execution_count": 24,
   "metadata": {},
   "outputs": [
    {
     "data": {
      "text/plain": [
       "[<matplotlib.lines.Line2D at 0x235177559e8>]"
      ]
     },
     "execution_count": 24,
     "metadata": {},
     "output_type": "execute_result"
    },
    {
     "data": {
      "image/png": "[encoded data removed]",
      "text/plain": [
       "<Figure size 432x288 with 1 Axes>"
      ]
     },
     "metadata": {
      "needs_background": "light"
     },
     "output_type": "display_data"
    }
   ],
   "source": [
    "lags = np.arange(0,51)\n",
    "plt.plot(analytical_ACF(lags), linestyle = \"None\", marker = \".\", markersize = 10)"
   ]
  },
  {
   "cell_type": "code",
   "execution_count": 25,
   "metadata": {},
   "outputs": [
    {
     "data": {
      "text/plain": [
       "(array([ 1.        , -0.13340259, -0.13834284,  0.06310815, -0.0094681 ,\n",
       "        -0.08061253]),\n",
       " array([ 0.99998752, -0.13336931, -0.13833446,  0.04259541,  0.01540234,\n",
       "        -0.0091532 ]))"
      ]
     },
     "execution_count": 25,
     "metadata": {},
     "output_type": "execute_result"
    }
   ],
   "source": [
    "acf(pf)[0:6], analytical_ACF(np.arange(0,6,1))"
   ]
  },
  {
   "cell_type": "markdown",
   "metadata": {},
   "source": [
    "### Forecasting"
   ]
  },
  {
   "cell_type": "markdown",
   "metadata": {},
   "source": [
    "The rudimentary forecast: We assume we have $X_{t-1}, X_{t-2}$, so we simply plug in for $X_t$.\n",
    "\n",
    "$X_t=0.096-0.154 X_{t-1}-0.159 X_{t-2} + \\omega_t$"
   ]
  },
  {
   "cell_type": "code",
   "execution_count": 26,
   "metadata": {},
   "outputs": [],
   "source": [
    "def predict_our_model(dataseries, no_pred = 1):\n",
    "    X_t1 = dataseries[-1]\n",
    "    X_t2 = dataseries[-2]\n",
    "    output = []\n",
    "    for i in range(no_pred):\n",
    "        X_t = 0.096 - 0.154*X_t1 -0.159*X_t2\n",
    "        output.append(X_t)\n",
    "        X_t2, X_t1 = X_t1, X_t\n",
    "    return output"
   ]
  },
  {
   "cell_type": "code",
   "execution_count": 27,
   "metadata": {},
   "outputs": [],
   "source": [
    "test = predict_our_model(pf, 10)"
   ]
  },
  {
   "cell_type": "code",
   "execution_count": 28,
   "metadata": {},
   "outputs": [
    {
     "data": {
      "text/plain": [
       "[<matplotlib.lines.Line2D at 0x235176113c8>]"
      ]
     },
     "execution_count": 28,
     "metadata": {},
     "output_type": "execute_result"
    },
    {
     "data": {
      "image/png": "[encoded data removed]",
      "text/plain": [
       "<Figure size 432x288 with 1 Axes>"
      ]
     },
     "metadata": {
      "needs_background": "light"
     },
     "output_type": "display_data"
    }
   ],
   "source": [
    "plt.plot(test)"
   ]
  },
  {
   "cell_type": "code",
   "execution_count": null,
   "metadata": {},
   "outputs": [],
   "source": []
  }
 ],
 "metadata": {
  "kernelspec": {
   "display_name": "Python 3",
   "language": "python",
   "name": "python3"
  },
  "language_info": {
   "codemirror_mode": {
    "name": "ipython",
    "version": 3
   },
   "file_extension": ".py",
   "mimetype": "text/x-python",
   "name": "python",
   "nbconvert_exporter": "python",
   "pygments_lexer": "ipython3",
   "version": "3.7.3"
  },
  "widgets": {
   "application/vnd.jupyter.widget-state+json": {
    "state": {},
    "version_major": 2,
    "version_minor": 0
   }
  }
 },
 "nbformat": 4,
 "nbformat_minor": 4
}
